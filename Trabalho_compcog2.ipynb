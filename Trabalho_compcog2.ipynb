{
  "nbformat": 4,
  "nbformat_minor": 0,
  "metadata": {
    "colab": {
      "name": "Trabalho_compcog2.ipynb",
      "provenance": [],
      "authorship_tag": "ABX9TyPbz3ftGroYYzlhmfO2Bw5f",
      "include_colab_link": true
    },
    "kernelspec": {
      "name": "python3",
      "display_name": "Python 3"
    },
    "language_info": {
      "name": "python"
    }
  },
  "cells": [
    {
      "cell_type": "markdown",
      "metadata": {
        "id": "view-in-github",
        "colab_type": "text"
      },
      "source": [
        "<a href=\"https://colab.research.google.com/github/pampamlopes/compcognitiva/blob/main/Trabalho_compcog2.ipynb\" target=\"_parent\"><img src=\"https://colab.research.google.com/assets/colab-badge.svg\" alt=\"Open In Colab\"/></a>"
      ]
    },
    {
      "cell_type": "markdown",
      "metadata": {
        "id": "k3DR33qAqc4d"
      },
      "source": [
        "# **TRABALHO COMPUTAÇÃO COGNITIVA 2**\n",
        "ALUNA: PÂMELA M. B. LOPES"
      ]
    },
    {
      "cell_type": "code",
      "metadata": {
        "colab": {
          "base_uri": "https://localhost:8080/"
        },
        "id": "PuB2GqEoptAa",
        "outputId": "0ce15985-25b3-4742-c8fb-e863d25f5d9c"
      },
      "source": [
        "!pip install gtts\n",
        "!pip install SpeechRecognition"
      ],
      "execution_count": 2,
      "outputs": [
        {
          "output_type": "stream",
          "text": [
            "Collecting gtts\n",
            "  Downloading gTTS-2.2.3-py3-none-any.whl (25 kB)\n",
            "Requirement already satisfied: requests in /usr/local/lib/python3.7/dist-packages (from gtts) (2.23.0)\n",
            "Requirement already satisfied: click in /usr/local/lib/python3.7/dist-packages (from gtts) (7.1.2)\n",
            "Requirement already satisfied: six in /usr/local/lib/python3.7/dist-packages (from gtts) (1.15.0)\n",
            "Requirement already satisfied: idna<3,>=2.5 in /usr/local/lib/python3.7/dist-packages (from requests->gtts) (2.10)\n",
            "Requirement already satisfied: chardet<4,>=3.0.2 in /usr/local/lib/python3.7/dist-packages (from requests->gtts) (3.0.4)\n",
            "Requirement already satisfied: urllib3!=1.25.0,!=1.25.1,<1.26,>=1.21.1 in /usr/local/lib/python3.7/dist-packages (from requests->gtts) (1.24.3)\n",
            "Requirement already satisfied: certifi>=2017.4.17 in /usr/local/lib/python3.7/dist-packages (from requests->gtts) (2021.5.30)\n",
            "Installing collected packages: gtts\n",
            "Successfully installed gtts-2.2.3\n",
            "Collecting SpeechRecognition\n",
            "  Downloading SpeechRecognition-3.8.1-py2.py3-none-any.whl (32.8 MB)\n",
            "\u001b[K     |████████████████████████████████| 32.8 MB 34 kB/s \n",
            "\u001b[?25hInstalling collected packages: SpeechRecognition\n",
            "Successfully installed SpeechRecognition-3.8.1\n"
          ],
          "name": "stdout"
        }
      ]
    },
    {
      "cell_type": "code",
      "metadata": {
        "colab": {
          "base_uri": "https://localhost:8080/"
        },
        "id": "V24tpVk1z132",
        "outputId": "0ff9c2c3-cb7c-4233-a474-24def0157973"
      },
      "source": [
        "!apt install libasound2-dev portaudio19-dev libportaudio2 libportaudiocpp0 ffmpeg"
      ],
      "execution_count": 23,
      "outputs": [
        {
          "output_type": "stream",
          "text": [
            "Reading package lists... Done\n",
            "Building dependency tree       \n",
            "Reading state information... Done\n",
            "libasound2-dev is already the newest version (1.1.3-5ubuntu0.5).\n",
            "ffmpeg is already the newest version (7:3.4.8-0ubuntu0.2).\n",
            "Suggested packages:\n",
            "  portaudio19-doc\n",
            "The following NEW packages will be installed:\n",
            "  libportaudio2 libportaudiocpp0 portaudio19-dev\n",
            "0 upgraded, 3 newly installed, 0 to remove and 40 not upgraded.\n",
            "Need to get 184 kB of archives.\n",
            "After this operation, 891 kB of additional disk space will be used.\n",
            "Get:1 http://archive.ubuntu.com/ubuntu bionic/universe amd64 libportaudio2 amd64 19.6.0-1 [64.6 kB]\n",
            "Get:2 http://archive.ubuntu.com/ubuntu bionic/universe amd64 libportaudiocpp0 amd64 19.6.0-1 [15.1 kB]\n",
            "Get:3 http://archive.ubuntu.com/ubuntu bionic/universe amd64 portaudio19-dev amd64 19.6.0-1 [104 kB]\n",
            "Fetched 184 kB in 1s (281 kB/s)\n",
            "Selecting previously unselected package libportaudio2:amd64.\n",
            "(Reading database ... 160837 files and directories currently installed.)\n",
            "Preparing to unpack .../libportaudio2_19.6.0-1_amd64.deb ...\n",
            "Unpacking libportaudio2:amd64 (19.6.0-1) ...\n",
            "Selecting previously unselected package libportaudiocpp0:amd64.\n",
            "Preparing to unpack .../libportaudiocpp0_19.6.0-1_amd64.deb ...\n",
            "Unpacking libportaudiocpp0:amd64 (19.6.0-1) ...\n",
            "Selecting previously unselected package portaudio19-dev:amd64.\n",
            "Preparing to unpack .../portaudio19-dev_19.6.0-1_amd64.deb ...\n",
            "Unpacking portaudio19-dev:amd64 (19.6.0-1) ...\n",
            "Setting up libportaudio2:amd64 (19.6.0-1) ...\n",
            "Setting up libportaudiocpp0:amd64 (19.6.0-1) ...\n",
            "Setting up portaudio19-dev:amd64 (19.6.0-1) ...\n",
            "Processing triggers for libc-bin (2.27-3ubuntu1.2) ...\n",
            "/sbin/ldconfig.real: /usr/local/lib/python3.7/dist-packages/ideep4py/lib/libmkldnn.so.0 is not a symbolic link\n",
            "\n"
          ],
          "name": "stdout"
        }
      ]
    },
    {
      "cell_type": "code",
      "metadata": {
        "colab": {
          "base_uri": "https://localhost:8080/"
        },
        "id": "ox1Yvqmwml8x",
        "outputId": "aefeccdf-675e-4954-adec-9d77ac578995"
      },
      "source": [
        "!pip install pyaudio"
      ],
      "execution_count": 24,
      "outputs": [
        {
          "output_type": "stream",
          "text": [
            "Collecting pyaudio\n",
            "  Using cached PyAudio-0.2.11.tar.gz (37 kB)\n",
            "Building wheels for collected packages: pyaudio\n",
            "  Building wheel for pyaudio (setup.py) ... \u001b[?25l\u001b[?25hdone\n",
            "  Created wheel for pyaudio: filename=PyAudio-0.2.11-cp37-cp37m-linux_x86_64.whl size=52602 sha256=eee2d8ab25cc45ad7b05d883b8eb0bf0c0b4875a79caa988166b77a7ada7d3d4\n",
            "  Stored in directory: /root/.cache/pip/wheels/40/2e/4c/b71e7e96c861a46e6213bc6bb482b94dcf293a92c5e736c1ec\n",
            "Successfully built pyaudio\n",
            "Installing collected packages: pyaudio\n",
            "Successfully installed pyaudio-0.2.11\n"
          ],
          "name": "stdout"
        }
      ]
    },
    {
      "cell_type": "code",
      "metadata": {
        "id": "UY0v_dqGZytF"
      },
      "source": [
        "from gtts import gTTS \n",
        "import IPython\n",
        "import speech_recognition as sr"
      ],
      "execution_count": 14,
      "outputs": []
    },
    {
      "cell_type": "markdown",
      "metadata": {
        "id": "OLLHAHZ00WP_"
      },
      "source": [
        "# **Fala para audio**"
      ]
    },
    {
      "cell_type": "code",
      "metadata": {
        "colab": {
          "base_uri": "https://localhost:8080/"
        },
        "id": "xmJYlCsaPZLI",
        "outputId": "968d06d7-8337-45b9-8e78-c5ae6c01a667"
      },
      "source": [
        "Texto = input(\"Digite seu texto para ouvi-lo\")"
      ],
      "execution_count": 4,
      "outputs": [
        {
          "output_type": "stream",
          "text": [
            "Digite seu texto para ouvi-loNao aguento mais meu vizinho\n"
          ],
          "name": "stdout"
        }
      ]
    },
    {
      "cell_type": "code",
      "metadata": {
        "id": "buRwHRkGOP-E"
      },
      "source": [
        "output = gTTS(text=Texto, lang='pt', slow=False)\n",
        "\n",
        "output.save(\"output.mp3\")"
      ],
      "execution_count": 5,
      "outputs": []
    },
    {
      "cell_type": "code",
      "metadata": {
        "colab": {
          "base_uri": "https://localhost:8080/",
          "height": 75
        },
        "id": "JSLwqnbYOzBL",
        "outputId": "2bf20ea2-cf28-4c19-e08a-42bab2497903"
      },
      "source": [
        "IPython.display.Audio(\"output.mp3\")"
      ],
      "execution_count": 6,
      "outputs": [
        {
          "output_type": "execute_result",
          "data": {
            "text/html": [
              "\n",
              "                <audio controls=\"controls\" >\n",
              "                    <source src=\"data:audio/mpeg;base64,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\" type=\"audio/mpeg\" />\n",
              "                    Your browser does not support the audio element.\n",
              "                </audio>\n",
              "              "
            ],
            "text/plain": [
              "<IPython.lib.display.Audio object>"
            ]
          },
          "metadata": {
            "tags": []
          },
          "execution_count": 6
        }
      ]
    },
    {
      "cell_type": "markdown",
      "metadata": {
        "id": "bhQUElZ40e1C"
      },
      "source": [
        "# Audio para fala"
      ]
    },
    {
      "cell_type": "code",
      "metadata": {
        "id": "j6R9pfH5k4Tf"
      },
      "source": [
        "def cria_audio(audio):\n",
        " audioS = gTTS(audio,lang='pt')\n",
        " audioS.save('audios/hello.mp3')\n",
        " playsound('audios/hello.mp3')"
      ],
      "execution_count": 19,
      "outputs": []
    },
    {
      "cell_type": "code",
      "metadata": {
        "id": "aGHXbkZsjjx9"
      },
      "source": [
        "def ouvir_microfone():\n",
        "\n",
        "  microfone = sr.Recognizer()\n",
        "\n",
        "  with sr.Microphone() as source:\n",
        "\n",
        "    microfone.adjust_for_ambient_noise(source)\n",
        "    print(\"Diga sua frase: \")\n",
        "\n",
        "    audio = microfone.listen(source)\n",
        "    try:\n",
        "\n",
        "      frase = microfone.recognize_google(audio,language='pt-BR')\n",
        "\n",
        "      print(\"Você disse: \" + frase)\n",
        "\n",
        "    except sr.UnkownValueError:\n",
        "      print(\"Não entendi\")\n",
        "  return frase"
      ],
      "execution_count": 20,
      "outputs": []
    },
    {
      "cell_type": "code",
      "metadata": {
        "id": "uTzNOh9Pljud"
      },
      "source": [
        "frase = ouvir_microfone()\n",
        "cria_audio(frase)"
      ],
      "execution_count": null,
      "outputs": []
    }
  ]
}